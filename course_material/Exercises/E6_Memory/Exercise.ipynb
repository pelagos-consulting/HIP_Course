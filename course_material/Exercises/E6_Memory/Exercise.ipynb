{
 "cells": [
  {
   "cell_type": "markdown",
   "id": "d6443b86-83d9-45b0-bebc-35d3a64d55da",
   "metadata": {
    "tags": []
   },
   "source": [
    "# Exercise - Using rectangular copies for Hadamard matrix multiplication\n",
    "\n",
    "Hadamard matrix multiplication is where the values in matrices **D** and **E** at coordinates (i0,i1) are multiplied together to set the value at coordinates (i0,i1) in matrix **F**.\n",
    "\n",
    "<figure style=\"margin-left:auto; margin-right:auto; width:80%;\">\n",
    "    <img style=\"vertical-align:middle\" src=\"../../images/elementwise_multiplication.svg\">\n",
    "    <figcaption style= \"text-align:lower; margin:1em; float:bottom; vertical-align:bottom;\">Elementwise multiplication of matrices D and E to get F.</figcaption>\n",
    "</figure>\n",
    "\n",
    "The steps are: \n",
    "\n",
    "1. Parse command line arguments.\n",
    "1. Device discovery and selection.\n",
    "1. Allocate matrices **D_h**, **E_h**, and **F_h** on the host. Fill matrices **D_h** and **E_h** with random numbers.\n",
    "1. Allocate matrices **D_d**, **E_d** and **F_d** on the compute device.\n",
    "1. Upload matrices **D_h** and **E_h** to device allocations **D_d** and **E_d**.\n",
    "1. Run the kernel **mat_elementwise** on the device to compute **F_d** from **D_d** and **E_d**.\n",
    "1. Copy **F_d** on the device to **F_h** on the host.\n",
    "1. Compare **F_h** is with the solution **F_answer_h** from sequential CPU code.\n",
    "1. Write **D_h**, **E_h** and **F_h** to disk.\n",
    "1. Release resources.\n",
    "\n",
    "Using rectangular copies is an important skill to master, especially when you are decomposing your problem into sections that are to be handled by different devices. In this exercise we are going enable the elementwise matrix multiplication code to use a **rectangular copy** to copy the memory allocation **F_d** back to the host (**F_h**). The source code to edit is located in [exercise_rectcopy.cpp](exercise_rectcopy.cpp).\n",
    "\n",
    "The code works fine as it is, however it is only using a 1D memory copy with a call to **hipMemcpy**. For teaching purposes your task is to instrument this program to copy the device memory allocation **F_d** to **F_h** using a call to the rectangular copy function **hipMemcpy3D**. "
   ]
  },
  {
   "cell_type": "markdown",
   "id": "2eafd2ab-4ca7-415f-997e-44f28c7dfa46",
   "metadata": {},
   "source": [
    "## Source the path\n",
    "\n",
    "This command puts into the path the commands for building and running the exercise."
   ]
  },
  {
   "cell_type": "code",
   "execution_count": 1,
   "id": "5ac68efd-66df-4658-9144-4e8a40b9a9bb",
   "metadata": {},
   "outputs": [],
   "source": [
    "import os\n",
    "os.environ['PATH'] = f\"{os.environ['PATH']}:../../install/bin\"\n",
    "\n",
    "# At a Bash terminal you need to do this instead\n",
    "# source ../env"
   ]
  },
  {
   "cell_type": "markdown",
   "id": "21cb7458-be15-467d-8550-d43c5aa30bdb",
   "metadata": {},
   "source": [
    "## Run the exercise code\n",
    "\n",
    "As it stands, the code produces the right answer, but it is using a standard contiguous copy to copy **F_d** back to **F_h**."
   ]
  },
  {
   "cell_type": "code",
   "execution_count": 2,
   "id": "06d4be13-9cfd-461e-b984-bab6a678c01e",
   "metadata": {},
   "outputs": [
    {
     "name": "stdout",
     "output_type": "stream",
     "text": [
      "[ 50%] Built target hip_helper\n",
      "[100%] Built target exercise_rectcopy.exe\n",
      "\u001b[36mInstall the project...\u001b[0m\n",
      "-- Install configuration: \"RELEASE\"\n",
      "Device id: 0\n",
      "\tname:                                    AMD Radeon VII\n",
      "\tglobal memory size:                      17163 MB\n",
      "\tavailable registers per block:           65536 \n",
      "\tmax threads per SM or CU:                2560 \n",
      "\tmaximum shared memory size per block:    65 KB\n",
      "\tmaximum shared memory size per SM or CU: 65 KB\n",
      "\tmaximum pitch size for memory copies:    2147 MB\n",
      "\tmax block size:                          (1024,1024,1024)\n",
      "\tmax threads in a block:                  1024\n",
      "\tmax Grid size:                           (2147483647,65536,65536)\n",
      "The output array F_h (as computed with HIP) is\n",
      "----\n",
      "|  4.50e-01  1.70e-01  2.77e-01  2.21e-02 |\n",
      "|  2.46e-02  3.48e-02  4.41e-02  2.05e-01 |\n",
      "|  7.57e-01  4.06e-03  3.90e-01  2.74e-01 |\n",
      "|  3.16e-01  3.38e-05  9.45e-02  9.03e-01 |\n",
      "|  1.60e-02  6.24e-03  9.69e-02  4.00e-01 |\n",
      "|  4.89e-01  4.12e-01  8.46e-01  8.93e-02 |\n",
      "|  3.23e-01  3.19e-02  2.84e-01  4.18e-01 |\n",
      "|  2.02e-02  3.38e-01  2.30e-01  1.49e-01 |\n",
      "----\n",
      "The CPU solution (F_answer_h) is \n",
      "----\n",
      "|  4.50e-01  1.70e-01  2.77e-01  2.21e-02 |\n",
      "|  2.46e-02  3.48e-02  4.41e-02  2.05e-01 |\n",
      "|  7.57e-01  4.06e-03  3.90e-01  2.74e-01 |\n",
      "|  3.16e-01  3.38e-05  9.45e-02  9.03e-01 |\n",
      "|  1.60e-02  6.24e-03  9.69e-02  4.00e-01 |\n",
      "|  4.89e-01  4.12e-01  8.46e-01  8.93e-02 |\n",
      "|  3.23e-01  3.19e-02  2.84e-01  4.18e-01 |\n",
      "|  2.02e-02  3.38e-01  2.30e-01  1.49e-01 |\n",
      "----\n",
      "The residual (F_answer_h-F_h) is\n",
      "----\n",
      "|  0.00e+00  0.00e+00  0.00e+00  0.00e+00 |\n",
      "|  0.00e+00  0.00e+00  0.00e+00  0.00e+00 |\n",
      "|  0.00e+00  0.00e+00  0.00e+00  0.00e+00 |\n",
      "|  0.00e+00  0.00e+00  0.00e+00  0.00e+00 |\n",
      "|  0.00e+00  0.00e+00  0.00e+00  0.00e+00 |\n",
      "|  0.00e+00  0.00e+00  0.00e+00  0.00e+00 |\n",
      "|  0.00e+00  0.00e+00  0.00e+00  0.00e+00 |\n",
      "|  0.00e+00  0.00e+00  0.00e+00  0.00e+00 |\n",
      "----\n",
      "Maximum error (infinity norm) is: 0\n"
     ]
    }
   ],
   "source": [
    "!build exercise_rectcopy.exe; exercise_rectcopy.exe"
   ]
  },
  {
   "cell_type": "markdown",
   "id": "d91b193b-40d3-4742-acf9-3220ba6a344e",
   "metadata": {},
   "source": [
    "## Tasks\n",
    "\n",
    "1. Load up the documentation for [hipMemcpy3D](https://rocm.docs.amd.docm).\n",
    "1. In <a href=\"../../L6_Memory_Management/mat_mult_pitched_mem.cpp\">mat_mult_pitched_mem.cpp:197</a> there is an example for performing a rectangular copy using **hipMemcpy3D**. Copy-paste that code to [exercise_rectcopy.cpp](exercise_rectcopy.cpp) and begin modifications.\n",
    "\n",
    "### Bonus task\n",
    "\n",
    "Experiment with the 3D copy, can you change it so that it only copies back a rectangular region inside F_d, leaving a border 1 cell wide all the way around?"
   ]
  },
  {
   "cell_type": "markdown",
   "id": "a51b538a-ff01-4b69-acf6-3b889e8437f2",
   "metadata": {},
   "source": [
    "### Answer\n",
    "\n",
    "You can of course always look at the answer in [exercise_rectcopy_answer.cpp](exercise_rectcopy_answer.cpp) and run the code. But then try to understand why the solution is working."
   ]
  },
  {
   "cell_type": "code",
   "execution_count": 3,
   "id": "6c0e16c1-efd4-41a3-8a03-062a01234748",
   "metadata": {},
   "outputs": [
    {
     "name": "stdout",
     "output_type": "stream",
     "text": [
      "[ 50%] Built target hip_helper\n",
      "[100%] Built target exercise_rectcopy_answer.exe\n",
      "\u001b[36mInstall the project...\u001b[0m\n",
      "-- Install configuration: \"RELEASE\"\n",
      "Device id: 0\n",
      "\tname:                                    AMD Radeon VII\n",
      "\tglobal memory size:                      17163 MB\n",
      "\tavailable registers per block:           65536 \n",
      "\tmax threads per SM or CU:                2560 \n",
      "\tmaximum shared memory size per block:    65 KB\n",
      "\tmaximum shared memory size per SM or CU: 65 KB\n",
      "\tmaximum pitch size for memory copies:    2147 MB\n",
      "\tmax block size:                          (1024,1024,1024)\n",
      "\tmax threads in a block:                  1024\n",
      "\tmax Grid size:                           (2147483647,65536,65536)\n",
      "The output array F_h (as computed with HIP) is\n",
      "----\n",
      "|  4.50e-01  1.70e-01  2.77e-01  2.21e-02 |\n",
      "|  2.46e-02  3.48e-02  4.41e-02  2.05e-01 |\n",
      "|  7.57e-01  4.06e-03  3.90e-01  2.74e-01 |\n",
      "|  3.16e-01  3.38e-05  9.45e-02  9.03e-01 |\n",
      "|  1.60e-02  6.24e-03  9.69e-02  4.00e-01 |\n",
      "|  4.89e-01  4.12e-01  8.46e-01  8.93e-02 |\n",
      "|  3.23e-01  3.19e-02  2.84e-01  4.18e-01 |\n",
      "|  2.02e-02  3.38e-01  2.30e-01  1.49e-01 |\n",
      "----\n",
      "The CPU solution (F_answer_h) is \n",
      "----\n",
      "|  4.50e-01  1.70e-01  2.77e-01  2.21e-02 |\n",
      "|  2.46e-02  3.48e-02  4.41e-02  2.05e-01 |\n",
      "|  7.57e-01  4.06e-03  3.90e-01  2.74e-01 |\n",
      "|  3.16e-01  3.38e-05  9.45e-02  9.03e-01 |\n",
      "|  1.60e-02  6.24e-03  9.69e-02  4.00e-01 |\n",
      "|  4.89e-01  4.12e-01  8.46e-01  8.93e-02 |\n",
      "|  3.23e-01  3.19e-02  2.84e-01  4.18e-01 |\n",
      "|  2.02e-02  3.38e-01  2.30e-01  1.49e-01 |\n",
      "----\n",
      "The residual (F_answer_h-F_h) is\n",
      "----\n",
      "|  0.00e+00  0.00e+00  0.00e+00  0.00e+00 |\n",
      "|  0.00e+00  0.00e+00  0.00e+00  0.00e+00 |\n",
      "|  0.00e+00  0.00e+00  0.00e+00  0.00e+00 |\n",
      "|  0.00e+00  0.00e+00  0.00e+00  0.00e+00 |\n",
      "|  0.00e+00  0.00e+00  0.00e+00  0.00e+00 |\n",
      "|  0.00e+00  0.00e+00  0.00e+00  0.00e+00 |\n",
      "|  0.00e+00  0.00e+00  0.00e+00  0.00e+00 |\n",
      "|  0.00e+00  0.00e+00  0.00e+00  0.00e+00 |\n",
      "----\n",
      "Maximum error (infinity norm) is: 0\n"
     ]
    }
   ],
   "source": [
    "!build exercise_rectcopy_answer.exe; exercise_rectcopy_answer.exe"
   ]
  },
  {
   "cell_type": "markdown",
   "id": "5dfa4162-65b8-4203-9fa6-dfa52b1b3588",
   "metadata": {},
   "source": [
    "<address>\n",
    "Written by Dr. Toby Potter of <a href=\"https://www.pelagos-consulting.com\">Pelagos Consulting and Education</a> for the <a href=\"https://pawsey.org.au\">Pawsey Supercomputing Research Centre</a>. All trademarks mentioned are the property of their respective owners.\n",
    "</address>"
   ]
  }
 ],
 "metadata": {
  "kernelspec": {
   "display_name": "Python 3 (ipykernel)",
   "language": "python",
   "name": "python3"
  },
  "language_info": {
   "codemirror_mode": {
    "name": "ipython",
    "version": 3
   },
   "file_extension": ".py",
   "mimetype": "text/x-python",
   "name": "python",
   "nbconvert_exporter": "python",
   "pygments_lexer": "ipython3",
   "version": "3.10.12"
  }
 },
 "nbformat": 4,
 "nbformat_minor": 5
}
