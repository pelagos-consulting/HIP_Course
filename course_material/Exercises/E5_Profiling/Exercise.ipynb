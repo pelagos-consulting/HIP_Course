{
 "cells": [
  {
   "cell_type": "markdown",
   "id": "d6443b86-83d9-45b0-bebc-35d3a64d55da",
   "metadata": {
    "tags": []
   },
   "source": [
    "# Exercise - Timing Hadamard matrix multiplication\n",
    "\n",
    "In this exercise we are going to use HIP events to time the kernel execution for the Hadamard (elementwise) multiplication problem, where the values in matrices **D** and **E** at coordinates (i0,i1) are multiplied together to set the value at coordinates (i0,i1) in matrix **F**.\n",
    "\n",
    "<figure style=\"margin-left:auto; margin-right:auto; width:80%;\">\n",
    "    <img style=\"vertical-align:middle\" src=\"../../images/elementwise_multiplication.svg\">\n",
    "    <figcaption style= \"text-align:lower; margin:1em; float:bottom; vertical-align:bottom;\">Elementwise multiplication of matrices D and E to get F.</figcaption>\n",
    "</figure>\n",
    "\n",
    "The source code is located in [exercise_profiling.cpp](exercise_profiling.cpp). Matrices **D** and **E** are created on the host and are filled with random numbers before upload to the compute device and computation of the solution. The steps are:\n",
    "\n",
    "1. Parse program arguments\n",
    "1. Discover resources and choose a compute device\n",
    "1. Construct matrices **D_h** and **E_h** on the host and fill them with random numbers\n",
    "1. Allocate memory for arrays **D_d**, **E_d**, and **F_d** on the compute device\n",
    "1. Upload matrices **D_h** and **E_h** from the host to **D_d** and **E_d** on the device\n",
    "1. Run the kernel to compute **F_d** from **D_d** and **E_d** on the device\n",
    "1. Copy the buffer for matrix **F_d** on the device back to **F_h** on the host\n",
    "1. Test the computed matrix **F_h** against a known answer\n",
    "1. Write the contents of matrices **D_h**, **E_h**, and **F_h** to disk\n",
    "1. Clean up memory alllocations and release resources\n",
    "\n",
    "Your task is to measure how long it takes to execute the kernel by instrumenting the code with HIP events."
   ]
  },
  {
   "cell_type": "markdown",
   "id": "b16eccf4-11f2-4a13-af56-67e1e3e108ab",
   "metadata": {},
   "source": [
    "## Import the environment\n",
    "\n",
    "The command below brings the `run` and `build` commands within reach of the Jupyter notebook."
   ]
  },
  {
   "cell_type": "code",
   "execution_count": 1,
   "id": "2ff0bd2d-362f-4891-b2a1-0577a203df2e",
   "metadata": {},
   "outputs": [],
   "source": [
    "import os\n",
    "os.environ['PATH'] = f\"{os.environ['PATH']}:../../install/bin\"\n",
    "\n",
    "# At a Bash terminal you need to do this instead from this directory\n",
    "# source ../../env"
   ]
  },
  {
   "cell_type": "markdown",
   "id": "6783199c-8d23-4ea1-a11a-478943598af4",
   "metadata": {},
   "source": [
    "## Running the answer\n",
    "\n",
    "The code [exercise_profiling_answer.cpp](exercise_profiling_answer.cpp) uses HIP events to time both the memory copies from **D_h** to **D_d** and **E_h** to **E_d** and the kernel execution."
   ]
  },
  {
   "cell_type": "code",
   "execution_count": 3,
   "id": "01ec5a98-132f-4c6c-b821-fe2c17d2728a",
   "metadata": {},
   "outputs": [
    {
     "name": "stdout",
     "output_type": "stream",
     "text": [
      "[ 66%] Built target hip_helper\n",
      "[100%] Built target exercise_profiling_answer.exe\n",
      "\u001b[36mInstall the project...\u001b[0m\n",
      "-- Install configuration: \"RELEASE\"\n",
      "Device id: 0\n",
      "\tname:                                    AMD Radeon VII\n",
      "\tglobal memory size:                      17163 MB\n",
      "\tavailable registers per block:           65536 \n",
      "\tmax threads per SM or CU:                2560 \n",
      "\tmaximum shared memory size per block:    65 KB\n",
      "\tmaximum shared memory size per SM or CU: 65 KB\n",
      "\tmaximum pitch size for memory copies:    2147 MB\n",
      "\tmax block size:                          (1024,1024,1024)\n",
      "\tmax threads in a block:                  1024\n",
      "\tmax Grid size:                           (2147483647,65536,65536)\n",
      "Time for event \"memcpy\": 1.844 ms (2274.97 MB/s)\n",
      "Time for event \"mat_hadamard\": 0.415 ms\n",
      "Maximum error (infinity norm) is: 0\n"
     ]
    }
   ],
   "source": [
    "!build exercise_profiling_answer.exe; run exercise_profiling_answer.exe"
   ]
  },
  {
   "cell_type": "markdown",
   "id": "21cb7458-be15-467d-8550-d43c5aa30bdb",
   "metadata": {},
   "source": [
    "## Running the exercise\n",
    "\n",
    "The code [exercise_profiling.cpp](exercise_profiling.cpp) contains the exercise. It runs the solution just fine however it is lacking timing measurements."
   ]
  },
  {
   "cell_type": "code",
   "execution_count": 4,
   "id": "06d4be13-9cfd-461e-b984-bab6a678c01e",
   "metadata": {},
   "outputs": [
    {
     "name": "stdout",
     "output_type": "stream",
     "text": [
      "[ 50%] Built target hip_helper\n",
      "[100%] Built target exercise_profiling.exe\n",
      "\u001b[36mInstall the project...\u001b[0m\n",
      "-- Install configuration: \"RELEASE\"\n",
      "Device id: 0\n",
      "\tname:                                    AMD Radeon VII\n",
      "\tglobal memory size:                      17163 MB\n",
      "\tavailable registers per block:           65536 \n",
      "\tmax threads per SM or CU:                2560 \n",
      "\tmaximum shared memory size per block:    65 KB\n",
      "\tmaximum shared memory size per SM or CU: 65 KB\n",
      "\tmaximum pitch size for memory copies:    2147 MB\n",
      "\tmax block size:                          (1024,1024,1024)\n",
      "\tmax threads in a block:                  1024\n",
      "\tmax Grid size:                           (2147483647,65536,65536)\n",
      "Maximum error (infinity norm) is: 0\n"
     ]
    }
   ],
   "source": [
    "!build exercise_profiling.exe; run exercise_profiling.exe"
   ]
  },
  {
   "cell_type": "markdown",
   "id": "e8fc8240-0bd2-4641-9061-a60453b393d3",
   "metadata": {},
   "source": [
    "As you can see, there currently is no output to tell how long the kernel ran for."
   ]
  },
  {
   "cell_type": "markdown",
   "id": "d91b193b-40d3-4742-acf9-3220ba6a344e",
   "metadata": {},
   "source": [
    "## Tasks\n",
    "\n",
    "Your task is to time the kernel execution using HIP events.\n",
    "\n",
    "* Create and initialise two events of type **hipEvent_t**\n",
    "* Use **hipEventRecord** to insert the events into the default stream **just before** and **just after** the kernel.\n",
    "* Call the helper function **h_get_event_time_ms** to print out the kernel execution time (in milliseconds)."
   ]
  },
  {
   "cell_type": "markdown",
   "id": "a0085f2e-36d8-4e4a-b524-2a47565ddc6e",
   "metadata": {},
   "source": [
    "### Bonus tasks"
   ]
  },
  {
   "cell_type": "markdown",
   "id": "8bf708dd-3537-46fc-999a-aa19b8ea335e",
   "metadata": {},
   "source": [
    "* Use the events and the helper function **h_get_event_time_ms** to measure the time and IO rate of the uploads and downloads to the compute device.\n",
    "* Use **rocprof** (or nvprof) to get a trace of the application execution and view it with [Perfetto](https://ui.perfetto.dev/). From this you can determine the kernel runtime and the memory upload rate."
   ]
  },
  {
   "cell_type": "markdown",
   "id": "07ccfcab-7289-4824-8098-e8b79c7e92a4",
   "metadata": {},
   "source": [
    "<address>\n",
    "Written by Dr. Toby Potter of <a href=\"https://www.pelagos-consulting.com\">Pelagos Consulting and Education</a> for the Pawsey Supercomputing Centre\n",
    "</address>"
   ]
  }
 ],
 "metadata": {
  "kernelspec": {
   "display_name": "Python 3 (ipykernel)",
   "language": "python",
   "name": "python3"
  },
  "language_info": {
   "codemirror_mode": {
    "name": "ipython",
    "version": 3
   },
   "file_extension": ".py",
   "mimetype": "text/x-python",
   "name": "python",
   "nbconvert_exporter": "python",
   "pygments_lexer": "ipython3",
   "version": "3.10.12"
  }
 },
 "nbformat": 4,
 "nbformat_minor": 5
}
