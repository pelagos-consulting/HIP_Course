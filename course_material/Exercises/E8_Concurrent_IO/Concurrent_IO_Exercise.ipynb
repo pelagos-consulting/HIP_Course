{
 "cells": [
  {
   "cell_type": "markdown",
   "id": "41d24cde-216c-4dfd-92e6-9d03b3ec0f41",
   "metadata": {},
   "source": [
    "# Exercise - building a layer cake\n",
    "\n",
    "In this exercise the goal is to optimise an iterative code so that copies are performed concurrently with compute. The code [layer_cake.cpp](layer_cake.cpp) is a synchronous application where at each iteration **n** a simple kernel called **fill_plane** fills an on-device allocation in **U_ds** with **n**. \n",
    "\n",
    "After the kernel completes, **hipMemcpy3D** is employed to copy the plane to **out_h**, a 3D array of output planes. We avoid copying plane 1 to work around a bug in the AMD implementation of **hipMemcpy3D**. Hopefully this bug will be fixed in the future.\n",
    "\n",
    "If we make and run the application we can see that it correctly copies all planes other than plane 1."
   ]
  },
  {
   "cell_type": "markdown",
   "id": "2ecadee2-73a3-4c15-a90b-d5b60d1c4918",
   "metadata": {},
   "source": [
    "## Import the environment\n",
    "\n",
    "The command below brings the `run` and `build` commands within reach of the Jupyter notebook."
   ]
  },
  {
   "cell_type": "code",
   "execution_count": 2,
   "id": "3d904ee4-e1ec-4991-9bfe-71abdc9ca7e4",
   "metadata": {},
   "outputs": [],
   "source": [
    "import os\n",
    "os.environ['PATH'] = f\"{os.environ['PATH']}:../../install/bin\"\n",
    "\n",
    "# At a Bash terminal you need to do this instead from this directory\n",
    "# source ../../env"
   ]
  },
  {
   "cell_type": "markdown",
   "id": "67ececfb-06c1-4dc1-983c-2a4281ca5dcf",
   "metadata": {},
   "source": [
    "## Build and run the code"
   ]
  },
  {
   "cell_type": "code",
   "execution_count": 3,
   "id": "359791e3-d314-48c6-a8e1-78fe4037f67a",
   "metadata": {},
   "outputs": [
    {
     "name": "stdout",
     "output_type": "stream",
     "text": [
      "[ 50%] Built target hip_helper\n",
      "[100%] Built target exercise_layer_cake.exe\n",
      "\u001b[36mInstall the project...\u001b[0m\n",
      "-- Install configuration: \"RELEASE\"\n",
      "Device id: 0\n",
      "\tname:                                    AMD Radeon VII\n",
      "\tglobal memory size:                      17163 MB\n",
      "\tavailable registers per block:           65536 \n",
      "\tmax threads per SM or CU:                2560 \n",
      "\tmaximum shared memory size per block:    65 KB\n",
      "\tmaximum shared memory size per SM or CU: 65 KB\n",
      "\tmaximum pitch size for memory copies:    2147 MB\n",
      "\tmax block size:                          (1024,1024,1024)\n",
      "\tmax threads in a block:                  1024\n",
      "\tmax Grid size:                           (2147483647,65536,65536)\n",
      "The synchronous calculation took 0.422000 milliseconds.\n",
      "----\n",
      "|  0.00e+00  0.00e+00  0.00e+00  0.00e+00 |\n",
      "|  0.00e+00  0.00e+00  0.00e+00  0.00e+00 |\n",
      "|  0.00e+00  0.00e+00  0.00e+00  0.00e+00 |\n",
      "|  0.00e+00  0.00e+00  0.00e+00  0.00e+00 |\n",
      "----\n",
      "----\n",
      "|  0.00e+00  0.00e+00  0.00e+00  0.00e+00 |\n",
      "|  0.00e+00  0.00e+00  0.00e+00  0.00e+00 |\n",
      "|  0.00e+00  0.00e+00  0.00e+00  0.00e+00 |\n",
      "|  0.00e+00  0.00e+00  0.00e+00  0.00e+00 |\n",
      "----\n",
      "----\n",
      "|  2.00e+00  2.00e+00  2.00e+00  2.00e+00 |\n",
      "|  2.00e+00  2.00e+00  2.00e+00  2.00e+00 |\n",
      "|  2.00e+00  2.00e+00  2.00e+00  2.00e+00 |\n",
      "|  2.00e+00  2.00e+00  2.00e+00  2.00e+00 |\n",
      "----\n",
      "----\n",
      "|  3.00e+00  3.00e+00  3.00e+00  3.00e+00 |\n",
      "|  3.00e+00  3.00e+00  3.00e+00  3.00e+00 |\n",
      "|  3.00e+00  3.00e+00  3.00e+00  3.00e+00 |\n",
      "|  3.00e+00  3.00e+00  3.00e+00  3.00e+00 |\n",
      "----\n",
      "----\n",
      "|  4.00e+00  4.00e+00  4.00e+00  4.00e+00 |\n",
      "|  4.00e+00  4.00e+00  4.00e+00  4.00e+00 |\n",
      "|  4.00e+00  4.00e+00  4.00e+00  4.00e+00 |\n",
      "|  4.00e+00  4.00e+00  4.00e+00  4.00e+00 |\n",
      "----\n",
      "----\n",
      "|  5.00e+00  5.00e+00  5.00e+00  5.00e+00 |\n",
      "|  5.00e+00  5.00e+00  5.00e+00  5.00e+00 |\n",
      "|  5.00e+00  5.00e+00  5.00e+00  5.00e+00 |\n",
      "|  5.00e+00  5.00e+00  5.00e+00  5.00e+00 |\n",
      "----\n",
      "----\n",
      "|  6.00e+00  6.00e+00  6.00e+00  6.00e+00 |\n",
      "|  6.00e+00  6.00e+00  6.00e+00  6.00e+00 |\n",
      "|  6.00e+00  6.00e+00  6.00e+00  6.00e+00 |\n",
      "|  6.00e+00  6.00e+00  6.00e+00  6.00e+00 |\n",
      "----\n",
      "----\n",
      "|  7.00e+00  7.00e+00  7.00e+00  7.00e+00 |\n",
      "|  7.00e+00  7.00e+00  7.00e+00  7.00e+00 |\n",
      "|  7.00e+00  7.00e+00  7.00e+00  7.00e+00 |\n",
      "|  7.00e+00  7.00e+00  7.00e+00  7.00e+00 |\n",
      "----\n",
      "----\n",
      "|  8.00e+00  8.00e+00  8.00e+00  8.00e+00 |\n",
      "|  8.00e+00  8.00e+00  8.00e+00  8.00e+00 |\n",
      "|  8.00e+00  8.00e+00  8.00e+00  8.00e+00 |\n",
      "|  8.00e+00  8.00e+00  8.00e+00  8.00e+00 |\n",
      "----\n",
      "----\n",
      "|  9.00e+00  9.00e+00  9.00e+00  9.00e+00 |\n",
      "|  9.00e+00  9.00e+00  9.00e+00  9.00e+00 |\n",
      "|  9.00e+00  9.00e+00  9.00e+00  9.00e+00 |\n",
      "|  9.00e+00  9.00e+00  9.00e+00  9.00e+00 |\n",
      "----\n"
     ]
    }
   ],
   "source": [
    "!build exercise_layer_cake.exe; run exercise_layer_cake.exe"
   ]
  },
  {
   "cell_type": "markdown",
   "id": "cb577dd1-e031-4819-aec1-563e7d615d8a",
   "metadata": {},
   "source": [
    "## Your task\n",
    "\n",
    "Using any/all of the IO synchronisation techniques in this lesson, your task is to modify the synchronous solution so that it may copy the plane to **out_h** concurrently with the kernel that fills the plane."
   ]
  },
  {
   "cell_type": "markdown",
   "id": "9fea4117-10f4-479c-abb7-a8409ac610bc",
   "metadata": {},
   "source": [
    "## A concurrent solution\n",
    "\n",
    "One concurrent solution is located in the file [exercise_layer_cake_answers.cpp](exercise_layer_cake_answers.cpp). If you get stuck you are welcome to use this solution as inspiration for your own, however there are multiple ways (stream, event, or a combination) in which the necessary synchronisation can be implemented."
   ]
  },
  {
   "cell_type": "code",
   "execution_count": 4,
   "id": "e2b7518a-778e-41d0-8aa6-e9e618e6b29b",
   "metadata": {},
   "outputs": [
    {
     "name": "stdout",
     "output_type": "stream",
     "text": [
      "[ 50%] Built target hip_helper\n",
      "[100%] Built target exercise_layer_cake_answers.exe\n",
      "\u001b[36mInstall the project...\u001b[0m\n",
      "-- Install configuration: \"RELEASE\"\n",
      "Device id: 0\n",
      "\tname:                                    AMD Radeon VII\n",
      "\tglobal memory size:                      17163 MB\n",
      "\tavailable registers per block:           65536 \n",
      "\tmax threads per SM or CU:                2560 \n",
      "\tmaximum shared memory size per block:    65 KB\n",
      "\tmaximum shared memory size per SM or CU: 65 KB\n",
      "\tmaximum pitch size for memory copies:    2147 MB\n",
      "\tmax block size:                          (1024,1024,1024)\n",
      "\tmax threads in a block:                  1024\n",
      "\tmax Grid size:                           (2147483647,65536,65536)\n",
      "The asynchronous calculation took 0.375000 milliseconds.\n",
      "Layer - 0\n",
      ":----\n",
      "|  0.00e+00  0.00e+00  0.00e+00  0.00e+00 |\n",
      "|  0.00e+00  0.00e+00  0.00e+00  0.00e+00 |\n",
      "|  0.00e+00  0.00e+00  0.00e+00  0.00e+00 |\n",
      "|  0.00e+00  0.00e+00  0.00e+00  0.00e+00 |\n",
      "----\n",
      "Layer - 1\n",
      ":----\n",
      "|  0.00e+00  0.00e+00  0.00e+00  0.00e+00 |\n",
      "|  0.00e+00  0.00e+00  0.00e+00  0.00e+00 |\n",
      "|  0.00e+00  0.00e+00  0.00e+00  0.00e+00 |\n",
      "|  0.00e+00  0.00e+00  0.00e+00  0.00e+00 |\n",
      "----\n",
      "Layer - 2\n",
      ":----\n",
      "|  2.00e+00  2.00e+00  2.00e+00  2.00e+00 |\n",
      "|  2.00e+00  2.00e+00  2.00e+00  2.00e+00 |\n",
      "|  2.00e+00  2.00e+00  2.00e+00  2.00e+00 |\n",
      "|  2.00e+00  2.00e+00  2.00e+00  2.00e+00 |\n",
      "----\n",
      "Layer - 3\n",
      ":----\n",
      "|  3.00e+00  3.00e+00  3.00e+00  3.00e+00 |\n",
      "|  3.00e+00  3.00e+00  3.00e+00  3.00e+00 |\n",
      "|  3.00e+00  3.00e+00  3.00e+00  3.00e+00 |\n",
      "|  3.00e+00  3.00e+00  3.00e+00  3.00e+00 |\n",
      "----\n",
      "Layer - 4\n",
      ":----\n",
      "|  4.00e+00  4.00e+00  4.00e+00  4.00e+00 |\n",
      "|  4.00e+00  4.00e+00  4.00e+00  4.00e+00 |\n",
      "|  4.00e+00  4.00e+00  4.00e+00  4.00e+00 |\n",
      "|  4.00e+00  4.00e+00  4.00e+00  4.00e+00 |\n",
      "----\n",
      "Layer - 5\n",
      ":----\n",
      "|  5.00e+00  5.00e+00  5.00e+00  5.00e+00 |\n",
      "|  5.00e+00  5.00e+00  5.00e+00  5.00e+00 |\n",
      "|  5.00e+00  5.00e+00  5.00e+00  5.00e+00 |\n",
      "|  5.00e+00  5.00e+00  5.00e+00  5.00e+00 |\n",
      "----\n",
      "Layer - 6\n",
      ":----\n",
      "|  6.00e+00  6.00e+00  6.00e+00  6.00e+00 |\n",
      "|  6.00e+00  6.00e+00  6.00e+00  6.00e+00 |\n",
      "|  6.00e+00  6.00e+00  6.00e+00  6.00e+00 |\n",
      "|  6.00e+00  6.00e+00  6.00e+00  6.00e+00 |\n",
      "----\n",
      "Layer - 7\n",
      ":----\n",
      "|  7.00e+00  7.00e+00  7.00e+00  7.00e+00 |\n",
      "|  7.00e+00  7.00e+00  7.00e+00  7.00e+00 |\n",
      "|  7.00e+00  7.00e+00  7.00e+00  7.00e+00 |\n",
      "|  7.00e+00  7.00e+00  7.00e+00  7.00e+00 |\n",
      "----\n",
      "Layer - 8\n",
      ":----\n",
      "|  8.00e+00  8.00e+00  8.00e+00  8.00e+00 |\n",
      "|  8.00e+00  8.00e+00  8.00e+00  8.00e+00 |\n",
      "|  8.00e+00  8.00e+00  8.00e+00  8.00e+00 |\n",
      "|  8.00e+00  8.00e+00  8.00e+00  8.00e+00 |\n",
      "----\n",
      "Layer - 9\n",
      ":----\n",
      "|  9.00e+00  9.00e+00  9.00e+00  9.00e+00 |\n",
      "|  9.00e+00  9.00e+00  9.00e+00  9.00e+00 |\n",
      "|  9.00e+00  9.00e+00  9.00e+00  9.00e+00 |\n",
      "|  9.00e+00  9.00e+00  9.00e+00  9.00e+00 |\n",
      "----\n"
     ]
    }
   ],
   "source": [
    "!build exercise_layer_cake_answers.exe; run exercise_layer_cake_answers.exe"
   ]
  },
  {
   "cell_type": "markdown",
   "id": "787aebb9-3d60-4122-ab09-f0c0967b2c82",
   "metadata": {},
   "source": [
    "<address>\n",
    "Written by Dr. Toby Potter of <a href=\"https://www.pelagos-consulting.com\">Pelagos Consulting and Education</a> for the Pawsey Supercomputing Centre\n",
    "</address>"
   ]
  }
 ],
 "metadata": {
  "kernelspec": {
   "display_name": "Python 3 (ipykernel)",
   "language": "python",
   "name": "python3"
  },
  "language_info": {
   "codemirror_mode": {
    "name": "ipython",
    "version": 3
   },
   "file_extension": ".py",
   "mimetype": "text/x-python",
   "name": "python",
   "nbconvert_exporter": "python",
   "pygments_lexer": "ipython3",
   "version": "3.10.12"
  }
 },
 "nbformat": 4,
 "nbformat_minor": 5
}
