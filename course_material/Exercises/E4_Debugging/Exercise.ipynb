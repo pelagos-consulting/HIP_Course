{
 "cells": [
  {
   "cell_type": "markdown",
   "id": "d6443b86-83d9-45b0-bebc-35d3a64d55da",
   "metadata": {
    "tags": []
   },
   "source": [
    "# Exercise - Hadamard matrix multiplication gone wrong!\n",
    "\n",
    "In this exercise we are going to use what we know to try and find an error in a HIP program. We revisit Hadamard multiplication, where the values in matrices **D** and **E** at coordinates (i0,i1) are multiplied together to set the value at coordinates (i0,i1) in matrix **F**.\n",
    "\n",
    "<figure style=\"margin-left:auto; margin-right:auto; width:80%;\">\n",
    "    <img style=\"vertical-align:middle\" src=\"../../images/elementwise_multiplication.svg\">\n",
    "    <figcaption style= \"text-align:lower; margin:1em; float:bottom; vertical-align:bottom;\">Elementwise multiplication of matrices D and E to get F.</figcaption>\n",
    "</figure>\n",
    "\n",
    "The source code is located in [exercise_debug.cpp](exercise_debug.cpp). The program is similar to matrix multiplication in almost every way, except the kernel implementation. "
   ]
  },
  {
   "cell_type": "markdown",
   "id": "86c10de5-1244-43c8-874c-e20384fc563e",
   "metadata": {},
   "source": [
    "The steps are:\n",
    "\n",
    "1. Parse program arguments\n",
    "1. Discover resources and choose a compute device\n",
    "1. Construct matrices **D_h** and **E_h** on the host and fill them with random numbers\n",
    "1. Allocate memory for arrays **D_d**, **E_d**, and **F_d** on the compute device\n",
    "1. Upload matrices **D_h** and **E_h** from the host to **D_d** and **E_d** on the device\n",
    "1. Run the kernel to compute **F_d** from **D_d** and **E_d** on the device\n",
    "1. Copy the buffer for matrix **F_d** on the device back to **F_h** on the host\n",
    "1. Test the computed matrix **F_h** against a known answer\n",
    "1. Write the contents of matrices **D_h**, **E_h**, and **F_h** to disk\n",
    "1. Clean up memory alllocations and release resources"
   ]
  },
  {
   "cell_type": "markdown",
   "id": "2c7b3812-ccef-4bb3-a7ca-0e7cb9ff595f",
   "metadata": {},
   "source": [
    "## Import the environment\n",
    "\n",
    "The command below brings the `run` and `build` commands within reach of the Jupyter notebook."
   ]
  },
  {
   "cell_type": "code",
   "execution_count": 3,
   "id": "1c686928-eadd-4423-a78e-3b6d3ff27630",
   "metadata": {},
   "outputs": [],
   "source": [
    "import os\n",
    "os.environ['PATH'] = f\"{os.environ['PATH']}:../../install/bin\"\n",
    "\n",
    "# At a Bash terminal you need to do this instead from this directory\n",
    "# source ../../env"
   ]
  },
  {
   "cell_type": "markdown",
   "id": "7b501a64-09f5-4487-85ba-ae10f7263b93",
   "metadata": {},
   "source": [
    "## Run the solution\n",
    "\n",
    "If we run the solution it computes **F** using elementwise multiplication of matrices **D** and **E**. We see there is little or no residual between the computed matrix **F_h** and **F_answer_h**, the solution computed from a serial CPU code."
   ]
  },
  {
   "cell_type": "code",
   "execution_count": 4,
   "id": "c940d77d-e137-411c-b9d8-72724580fc3a",
   "metadata": {},
   "outputs": [
    {
     "name": "stdout",
     "output_type": "stream",
     "text": [
      "[ 50%] Built target hip_helper\n",
      "[100%] Built target exercise_debug_answer.exe\n",
      "\u001b[36mInstall the project...\u001b[0m\n",
      "-- Install configuration: \"RELEASE\"\n",
      "Device id: 0\n",
      "\tname:                                    AMD Radeon VII\n",
      "\tglobal memory size:                      17163 MB\n",
      "\tavailable registers per block:           65536 \n",
      "\tmax threads per SM or CU:                2560 \n",
      "\tmaximum shared memory size per block:    65 KB\n",
      "\tmaximum shared memory size per SM or CU: 65 KB\n",
      "\tmaximum pitch size for memory copies:    2147 MB\n",
      "\tmax block size:                          (1024,1024,1024)\n",
      "\tmax threads in a block:                  1024\n",
      "\tmax Grid size:                           (2147483647,65536,65536)\n",
      "The output array F_h (as computed with HIP) is\n",
      "--------\n",
      "|  4.50e-01  1.70e-01  2.77e-01  2.21e-02  2.46e-02  3.48e-02  4.41e-02  2.05e-01 |\n",
      "|  7.57e-01  4.06e-03  3.90e-01  2.74e-01  3.16e-01  3.38e-05  9.45e-02  9.03e-01 |\n",
      "|  1.60e-02  6.24e-03  9.69e-02  4.00e-01  4.89e-01  4.12e-01  8.46e-01  8.93e-02 |\n",
      "|  3.23e-01  3.19e-02  2.84e-01  4.18e-01  2.02e-02  3.38e-01  2.30e-01  1.49e-01 |\n",
      "--------\n",
      "The CPU solution (F_answer_h) is \n",
      "--------\n",
      "|  4.50e-01  1.70e-01  2.77e-01  2.21e-02  2.46e-02  3.48e-02  4.41e-02  2.05e-01 |\n",
      "|  7.57e-01  4.06e-03  3.90e-01  2.74e-01  3.16e-01  3.38e-05  9.45e-02  9.03e-01 |\n",
      "|  1.60e-02  6.24e-03  9.69e-02  4.00e-01  4.89e-01  4.12e-01  8.46e-01  8.93e-02 |\n",
      "|  3.23e-01  3.19e-02  2.84e-01  4.18e-01  2.02e-02  3.38e-01  2.30e-01  1.49e-01 |\n",
      "--------\n",
      "The residual (F_answer_h-F_h) is\n",
      "--------\n",
      "|  0.00e+00  0.00e+00  0.00e+00  0.00e+00  0.00e+00  0.00e+00  0.00e+00  0.00e+00 |\n",
      "|  0.00e+00  0.00e+00  0.00e+00  0.00e+00  0.00e+00  0.00e+00  0.00e+00  0.00e+00 |\n",
      "|  0.00e+00  0.00e+00  0.00e+00  0.00e+00  0.00e+00  0.00e+00  0.00e+00  0.00e+00 |\n",
      "|  0.00e+00  0.00e+00  0.00e+00  0.00e+00  0.00e+00  0.00e+00  0.00e+00  0.00e+00 |\n",
      "--------\n"
     ]
    }
   ],
   "source": [
    "!build exercise_debug_answer.exe; run exercise_debug_answer.exe"
   ]
  },
  {
   "cell_type": "markdown",
   "id": "be9aa581-c702-4e0c-a4ce-e2ba356c4b33",
   "metadata": {},
   "source": [
    "## Run the buggy application\n",
    "\n",
    "Now run the application that has some bugs in it."
   ]
  },
  {
   "cell_type": "code",
   "execution_count": 5,
   "id": "ab5f7503-b8f3-4283-b47e-b0e4f9cb070e",
   "metadata": {},
   "outputs": [
    {
     "name": "stdout",
     "output_type": "stream",
     "text": [
      "[ 50%] Built target hip_helper\n",
      "[100%] Built target exercise_debug.exe\n",
      "\u001b[36mInstall the project...\u001b[0m\n",
      "-- Install configuration: \"RELEASE\"\n",
      "Device id: 0\n",
      "\tname:                                    AMD Radeon VII\n",
      "\tglobal memory size:                      17163 MB\n",
      "\tavailable registers per block:           65536 \n",
      "\tmax threads per SM or CU:                2560 \n",
      "\tmaximum shared memory size per block:    65 KB\n",
      "\tmaximum shared memory size per SM or CU: 65 KB\n",
      "\tmaximum pitch size for memory copies:    2147 MB\n",
      "\tmax block size:                          (1024,1024,1024)\n",
      "\tmax threads in a block:                  1024\n",
      "\tmax Grid size:                           (2147483647,65536,65536)\n",
      "The output array F_h (as computed with HIP) is\n",
      "--------\n",
      "|  4.50e-01  1.70e-01  2.77e-01  2.21e-02  2.46e-02  3.48e-02  4.41e-02  2.05e-01 |\n",
      "|  7.57e-01  4.06e-03  3.90e-01  2.74e-01  3.16e-01  3.38e-05  9.45e-02  9.03e-01 |\n",
      "|  1.60e-02  6.24e-03  9.69e-02  4.00e-01  4.89e-01  4.12e-01  8.46e-01  8.93e-02 |\n",
      "|  3.23e-01 -3.73e-01 -3.73e-01 -3.73e-01 -3.73e-01 -3.73e-01 -3.73e-01 -3.73e-01 |\n",
      "--------\n",
      "The CPU solution (F_answer_h) is \n",
      "--------\n",
      "|  4.50e-01  1.70e-01  2.77e-01  2.21e-02  2.46e-02  3.48e-02  4.41e-02  2.05e-01 |\n",
      "|  7.57e-01  4.06e-03  3.90e-01  2.74e-01  3.16e-01  3.38e-05  9.45e-02  9.03e-01 |\n",
      "|  1.60e-02  6.24e-03  9.69e-02  4.00e-01  4.89e-01  4.12e-01  8.46e-01  8.93e-02 |\n",
      "|  3.23e-01  3.19e-02  2.84e-01  4.18e-01  2.02e-02  3.38e-01  2.30e-01  1.49e-01 |\n",
      "--------\n",
      "The residual (F_answer_h-F_h) is\n",
      "--------\n",
      "|  0.00e+00  0.00e+00  0.00e+00  0.00e+00  0.00e+00  0.00e+00  0.00e+00  0.00e+00 |\n",
      "|  0.00e+00  0.00e+00  0.00e+00  0.00e+00  0.00e+00  0.00e+00  0.00e+00  0.00e+00 |\n",
      "|  0.00e+00  0.00e+00  0.00e+00  0.00e+00  0.00e+00  0.00e+00  0.00e+00  0.00e+00 |\n",
      "|  0.00e+00  4.04e-01  6.56e-01  7.91e-01  3.93e-01  7.11e-01  6.02e-01  5.22e-01 |\n",
      "--------\n"
     ]
    }
   ],
   "source": [
    "!build exercise_debug.exe; run exercise_debug.exe"
   ]
  },
  {
   "cell_type": "markdown",
   "id": "cce5d127-8ec7-419f-8489-f7ace63f1b99",
   "metadata": {},
   "source": [
    "For some reason nearly all the elements of the last row of **F_h** are filled with an incorrect solution!"
   ]
  },
  {
   "cell_type": "markdown",
   "id": "d91b193b-40d3-4742-acf9-3220ba6a344e",
   "metadata": {},
   "source": [
    "## Tasks\n",
    "\n",
    "Your task is to try and find the error/s using any of the techniques found in the lesson. You can of course check (or diff) the answer [exercise_debug_answer.cpp](exercise_debug_answer.cpp) if you get frustrated, but then try to understand **how** these changes messed up the solution.\n",
    "\n",
    "### Hint\n",
    "\n",
    "The block size is (3,3,1) and the matrix size is (4,8). We use row-major ordering so dimension `x` of the grid corresponds to dimension `1` of the matrices, and dimension `y` of the grid corresponds to dimension `0` of the matrices. A minimum grid size is then (9,6,1) with (3,2,1) blocks in each dimension. This grid is mapped to (6,9) in the coordinate system of the matrices."
   ]
  },
  {
   "cell_type": "markdown",
   "id": "e256ebdb-92ec-4c4d-82e2-07ec4543c037",
   "metadata": {},
   "source": [
    "<address>\n",
    "Written by Dr. Toby Potter of <a href=\"https://www.pelagos-consulting.com\">Pelagos Consulting and Education</a> for the Pawsey Supercomputing Centre\n",
    "</address>"
   ]
  }
 ],
 "metadata": {
  "kernelspec": {
   "display_name": "Python 3 (ipykernel)",
   "language": "python",
   "name": "python3"
  },
  "language_info": {
   "codemirror_mode": {
    "name": "ipython",
    "version": 3
   },
   "file_extension": ".py",
   "mimetype": "text/x-python",
   "name": "python",
   "nbconvert_exporter": "python",
   "pygments_lexer": "ipython3",
   "version": "3.10.12"
  }
 },
 "nbformat": 4,
 "nbformat_minor": 5
}
